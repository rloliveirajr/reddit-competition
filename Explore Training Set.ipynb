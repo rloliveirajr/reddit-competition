{
 "cells": [
  {
   "cell_type": "markdown",
   "metadata": {},
   "source": [
    "### Load data"
   ]
  },
  {
   "cell_type": "code",
   "execution_count": 95,
   "metadata": {
    "collapsed": false
   },
   "outputs": [
    {
     "data": {
      "text/plain": [
       "(array([[[0, 0, 0, ..., 0, 0, 0]],\n",
       " \n",
       "        [[0, 0, 0, ..., 0, 0, 0]],\n",
       " \n",
       "        [[0, 0, 0, ..., 0, 0, 0]],\n",
       " \n",
       "        ..., \n",
       "        [[0, 0, 0, ..., 0, 0, 0]],\n",
       " \n",
       "        [[0, 0, 0, ..., 0, 0, 0]],\n",
       " \n",
       "        [[0, 0, 0, ..., 0, 0, 0]]]), (1016,))"
      ]
     },
     "execution_count": 95,
     "metadata": {},
     "output_type": "execute_result"
    },
    {
     "data": {
      "image/png": "[encoded data removed]",
      "text/plain": [
       "<matplotlib.figure.Figure at 0x7fdaa7ce0e10>"
      ]
     },
     "metadata": {},
     "output_type": "display_data"
    }
   ],
   "source": [
    "%matplotlib inline\n",
    "import pandas as pd\n",
    "\n",
    "data = pd.read_csv(\"../datasets/reddit/reddit_training.csv\")\n",
    "#data.sarcasm_tag = le.transform(data.sarcasm_tag)\n",
    "train = data.copy()#[[\"body\", \"sarcasm_tag\"]]\n",
    "c = CountVectorizer()\n",
    "\n",
    "def f(x):\n",
    "    return [x_i.strip() for x_i in x.split() if len(x_i.strip()) > 0]\n",
    "b = c.fit_transform(data.body)\n",
    "words_frequency = b.toarray().sum(0)\n",
    "log_words_frequency = np.log(words_frequency)\n",
    "\n",
    "log_mean = log_words_frequency.mean()\n",
    "log_std = log_words_frequency.std()\n",
    "\n",
    "criteria_lower = log_words_frequency >= (log_mean - log_std)\n",
    "criteria_upper = log_words_frequency <= (log_mean + 2*log_std)\n",
    "criteria = (criteria_lower) & (criteria_upper) & (words_frequency > 5)\n",
    "indicies = np.where(criteria)\n",
    "\n",
    "plt.hist(words_frequency[indicies])\n",
    "b.toarray()[:, indicies], words_frequency[indicies].shape"
   ]
  },
  {
   "cell_type": "code",
   "execution_count": 99,
   "metadata": {
    "collapsed": false
   },
   "outputs": [],
   "source": [
    "from sklearn.feature_extraction.text import CountVectorizer\n",
    "from sklearn.feature_extraction.text import TfidfVectorizer\n",
    "from sklearn.ensemble import RandomForestClassifier\n",
    "from sklearn.grid_search import GridSearchCV\n",
    "from sklearn.linear_model import SGDClassifier\n",
    "from sklearn.pipeline import Pipeline\n",
    "from sklearn import cross_validation\n",
    "from sklearn import metrics\n",
    "from sklearn.preprocessing import LabelEncoder\n",
    "from sklearn.decomposition import TruncatedSVD\n",
    "\n",
    "le = LabelEncoder()\n",
    "le.fit(train.sarcasm_tag.values)\n",
    "labels = le.transform(train.sarcasm_tag.values)\n",
    "pipeline = Pipeline([\n",
    "    ('vect', CountVectorizer(max_df=23, min_df=6)),\n",
    "#    ('tfidf', TfidfVectorizer(sublinear_tf=True, max_df=0.5,\n",
    "#                                 stop_words='english')),\n",
    "    ('clf', RandomForestClassifier(n_estimators=50,\n",
    "                                   random_state=0)),\n",
    "])\n",
    "\n",
    "scores = cross_validation.cross_val_score(pipeline, train[\"body\"].values, \n",
    "                                          labels, \n",
    "                                          cv=5, scoring='f1')"
   ]
  },
  {
   "cell_type": "code",
   "execution_count": 100,
   "metadata": {
    "collapsed": false
   },
   "outputs": [
    {
     "data": {
      "text/plain": [
       "(15.678426836321574, 10.028062133773187)"
      ]
     },
     "execution_count": 100,
     "metadata": {},
     "output_type": "execute_result"
    }
   ],
   "source": [
    "import numpy as np\n",
    "scores *= 100\n",
    "np.mean(scores), np.std(scores)"
   ]
  },
  {
   "cell_type": "code",
   "execution_count": 1,
   "metadata": {
    "collapsed": false
   },
   "outputs": [
    {
     "name": "stdout",
     "output_type": "stream",
     "text": [
      "0.17\n"
     ]
    }
   ],
   "source": [
    "import sklearn\n",
    "\n",
    "print sklearn.__version__"
   ]
  },
  {
   "cell_type": "code",
   "execution_count": 118,
   "metadata": {
    "collapsed": false
   },
   "outputs": [],
   "source": [
    "from sklearn.pipeline import FeatureUnion\n",
    "from sklearn.base import BaseEstimator, TransformerMixin\n",
    "from sklearn.preprocessing import OneHotEncoder\n",
    "from sklearn.feature_extraction.text import HashingVectorizer\n",
    "from sklearn.naive_bayes import MultinomialNB\n",
    "\n",
    "class ItemSelector(BaseEstimator, TransformerMixin):\n",
    "    \n",
    "    def __init__(self, key, array=False):\n",
    "        self.key = key\n",
    "        self.array = array\n",
    "\n",
    "    def fit(self, x, y=None):\n",
    "        return self\n",
    "\n",
    "    def transform(self, data_dict):\n",
    "        if self.array:\n",
    "            return data_dict[self.key].values\n",
    "        return data_dict[[self.key]].values\n",
    "\n",
    "\n",
    "class ShowIntermediate(BaseEstimator, TransformerMixin):\n",
    "\n",
    "    def fit(self, x, y=None):\n",
    "        return self\n",
    "\n",
    "    def transform(self, data_dict):\n",
    "        print(data_dict.shape)\n",
    "        return data_dict\n",
    "\n",
    "pipeline = Pipeline(\n",
    "    [\n",
    "        ('union', FeatureUnion(\n",
    "            transformer_list=[\n",
    "                ('body', Pipeline([\n",
    "                    ('selector', ItemSelector(key='body', array=True)),\n",
    "                    ('vect', CountVectorizer(max_df=23, min_df=6, binary=True)),\n",
    "                ])),\n",
    "                ('score', Pipeline([\n",
    "                    ('selector', ItemSelector(key='score')),\n",
    "                ]))\n",
    "            ],\n",
    "            transformer_weights={\n",
    "                'tfidf': 2,\n",
    "                'score': 1\n",
    "            }\n",
    "        )),\n",
    "        ('clf', RandomForestClassifier(n_estimators=100,\n",
    "                                   random_state=0))\n",
    "    ]\n",
    "\n",
    ")\n",
    "\n",
    "scores = cross_validation.cross_val_score(pipeline, train, \n",
    "                                          labels, \n",
    "                                          cv=5, scoring='f1')"
   ]
  },
  {
   "cell_type": "code",
   "execution_count": 117,
   "metadata": {
    "collapsed": false
   },
   "outputs": [
    {
     "data": {
      "text/plain": [
       "(16.327065723650168, 8.6614636943758754)"
      ]
     },
     "execution_count": 117,
     "metadata": {},
     "output_type": "execute_result"
    }
   ],
   "source": [
    "import numpy as np\n",
    "scores *= 100\n",
    "np.mean(scores), np.std(scores)"
   ]
  },
  {
   "cell_type": "code",
   "execution_count": null,
   "metadata": {
    "collapsed": true
   },
   "outputs": [],
   "source": []
  }
 ],
 "metadata": {
  "kernelspec": {
   "display_name": "Python 2",
   "language": "python",
   "name": "python2"
  },
  "language_info": {
   "codemirror_mode": {
    "name": "ipython",
    "version": 2
   },
   "file_extension": ".py",
   "mimetype": "text/x-python",
   "name": "python",
   "nbconvert_exporter": "python",
   "pygments_lexer": "ipython2",
   "version": "2.7.6"
  }
 },
 "nbformat": 4,
 "nbformat_minor": 0
}
